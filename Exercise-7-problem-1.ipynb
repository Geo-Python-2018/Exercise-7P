{
 "cells": [
  {
   "cell_type": "markdown",
   "metadata": {
    "deletable": false,
    "editable": false,
    "nbgrader": {
     "checksum": "d5f892b471e6a97af78aebc625270ebe",
     "grade": false,
     "grade_id": "cell-a85f410ef0585bb8",
     "locked": true,
     "schema_version": 1,
     "solution": false
    }
   },
   "source": [
    "# Exercise 7: Plotting data in Python\n",
    "\n",
    "This week we'll put together our data analysis and plotting skills using Pandas and Matplotlib to visualize the temperature data we have been exploring for the course thus far.\n",
    "\n",
    "For each problem you need to modify the given notebook, and then upload your files to GitHub.\n",
    "The answers to the questions in this week's exercise should be given by modifying the document in places where asked.\n",
    "\n",
    "- **Exercise 7 is due by 16:00 on 28.10.**\n",
    "- Don't forget to check out [the hints for this week's exercise](https://geo-python.github.io/2018/lessons/L7/exercise-7.html) if you're having trouble.\n",
    "- Scores on this exercise are out of 20 points.\n",
    "\n"
   ]
  },
  {
   "cell_type": "markdown",
   "metadata": {
    "deletable": false,
    "editable": false,
    "nbgrader": {
     "checksum": "270aeca9cfdaac63f82fb660ee569433",
     "grade": false,
     "grade_id": "cell-33948b9e14791c81",
     "locked": true,
     "schema_version": 1,
     "solution": false
    }
   },
   "source": [
    "## Problem 1: Simple scatter plot using random (5 points)\n",
    "\n",
    "The aim of this task is to create a simple scatter plot using random numbers and save an image of that plot into your personal \n",
    "GitHub repository for this exercise. \n",
    "The end result should look something like this:\n",
    " \n",
    " ![Example figure](img/problem1_example.png)\n",
    " \n",
    "### Steps\n",
    "\n",
    "1: Create 1000 random points using numpy's `np.random.rand()` -function that is useful for creating these kind of test plots.\n",
    "\n",
    " - create variables **`x`** and **`y`** and store 1000 random numbers in them. These numbers will be used for plotting the points \n",
    "   - Important: use lower case variable names for x and y"
   ]
  },
  {
   "cell_type": "code",
   "execution_count": null,
   "metadata": {
    "collapsed": true,
    "deletable": false,
    "nbgrader": {
     "checksum": "aaa13e72c1c48ca4f2701a5e6ef4aba0",
     "grade": false,
     "grade_id": "random_points",
     "locked": false,
     "schema_version": 1,
     "solution": true
    }
   },
   "outputs": [],
   "source": [
    "# REPLACE THE ERROR BELOW WITH YOUR OWN CODE\n",
    "raise NotImplementedError()"
   ]
  },
  {
   "cell_type": "code",
   "execution_count": null,
   "metadata": {
    "collapsed": false,
    "deletable": false,
    "editable": false,
    "nbgrader": {
     "checksum": "fa3bb815c21f9338759978b21bb22a06",
     "grade": true,
     "grade_id": "random_points_tests",
     "locked": true,
     "points": 1,
     "schema_version": 1,
     "solution": false
    }
   },
   "outputs": [],
   "source": [
    "# These test prints should print first numbers in the variables\n",
    "print(x[0:5])\n",
    "print(y[0:5])\n"
   ]
  },
  {
   "cell_type": "markdown",
   "metadata": {
    "deletable": false,
    "editable": false,
    "nbgrader": {
     "checksum": "dc11d5579bee284ff7f8b663ae83cd38",
     "grade": false,
     "grade_id": "cell-7fb6a23ba6c8ea59",
     "locked": true,
     "schema_version": 1,
     "solution": false
    }
   },
   "source": [
    "2: create a variable **`colors`** in which you should store 1000 random colors so that we get a little bit of sweeter looking plot\n",
    "  - Basically the colors variable should be an array full of random numbers  as a result.\n",
    " "
   ]
  },
  {
   "cell_type": "code",
   "execution_count": null,
   "metadata": {
    "collapsed": true,
    "deletable": false,
    "nbgrader": {
     "checksum": "1f038bf4011f46d24d62e4bda64dc4ac",
     "grade": false,
     "grade_id": "colors",
     "locked": false,
     "schema_version": 1,
     "solution": true
    }
   },
   "outputs": [],
   "source": [
    "# REPLACE THE ERROR BELOW WITH YOUR OWN CODE\n",
    "raise NotImplementedError()"
   ]
  },
  {
   "cell_type": "code",
   "execution_count": null,
   "metadata": {
    "collapsed": false,
    "deletable": false,
    "editable": false,
    "nbgrader": {
     "checksum": "47afa16e145346ac2e9455a6d2287b94",
     "grade": true,
     "grade_id": "colors_tests",
     "locked": true,
     "points": 1,
     "schema_version": 1,
     "solution": false
    }
   },
   "outputs": [],
   "source": [
    "# This test print should print a number\n",
    "print(colors[0])\n"
   ]
  },
  {
   "cell_type": "markdown",
   "metadata": {
    "deletable": false,
    "editable": false,
    "nbgrader": {
     "checksum": "06cf7846bbd95848470888a1fae1f896",
     "grade": false,
     "grade_id": "cell-4f766d991d40522f",
     "locked": true,
     "schema_version": 1,
     "solution": false
    }
   },
   "source": [
    "3: create a scatter plot of points (point-size=50) with random colors using `plt.scatter()` -function.\n",
    "   - you can modify the size of a point using parameter `s` \n",
    "   - you can set the colors for the points using parameter `c`\n",
    "   \n",
    "\n",
    "4: create variables `title`, `xlabel` and `ylabel` and add title x-label and y-label to your plot as shown in the example figure above. \n",
    "\n",
    "**Notice:** You can use a *magic* command `%matplotlib notebook` to show the plot inside your notebook.\n"
   ]
  },
  {
   "cell_type": "code",
   "execution_count": null,
   "metadata": {
    "collapsed": false,
    "deletable": false,
    "nbgrader": {
     "checksum": "323b77877afeb4451817d0978048de3b",
     "grade": true,
     "grade_id": "scatter_plot",
     "locked": false,
     "points": 2,
     "schema_version": 1,
     "solution": true
    }
   },
   "outputs": [],
   "source": [
    "# REPLACE THE ERROR BELOW WITH YOUR OWN CODE\n",
    "raise NotImplementedError()"
   ]
  },
  {
   "cell_type": "markdown",
   "metadata": {
    "deletable": false,
    "editable": false,
    "nbgrader": {
     "checksum": "b81f6fdefeeba408079d1ad08fb37ea3",
     "grade": false,
     "grade_id": "cell-0545d812600e5465",
     "locked": true,
     "schema_version": 1,
     "solution": false
    }
   },
   "source": [
    "5: Create a variable `outputfp` with the output filename `my_first_plot.png` and save your plot as a PNG file into the disk. "
   ]
  },
  {
   "cell_type": "code",
   "execution_count": null,
   "metadata": {
    "collapsed": false,
    "deletable": false,
    "nbgrader": {
     "checksum": "9ab673a2d4ef506329a63ab6ae5b685d",
     "grade": true,
     "grade_id": "cell-b570a10cc4575787",
     "locked": false,
     "points": 1,
     "schema_version": 1,
     "solution": true
    }
   },
   "outputs": [],
   "source": [
    "# REPLACE THE ERROR BELOW WITH YOUR OWN CODE\n",
    "raise NotImplementedError()\n",
    "\n",
    "# This test print statement should print the output filename of your figure\n",
    "print(outputfp)\n"
   ]
  },
  {
   "cell_type": "markdown",
   "metadata": {
    "deletable": false,
    "editable": false,
    "nbgrader": {
     "checksum": "5753f95330572814933375f49f97eaa5",
     "grade": false,
     "grade_id": "cell-ba40728abeff91e4",
     "locked": true,
     "schema_version": 1,
     "solution": false
    }
   },
   "source": [
    "6: Upload the visualized image and notebook to your own personal GitHub repository.\n",
    "\n",
    "### Done!\n",
    "\n",
    "Now you can move to problem 2."
   ]
  }
 ],
 "metadata": {
  "kernelspec": {
   "display_name": "Python 3",
   "language": "python",
   "name": "python3"
  },
  "language_info": {
   "codemirror_mode": {
    "name": "ipython",
    "version": 3
   },
   "file_extension": ".py",
   "mimetype": "text/x-python",
   "name": "python",
   "nbconvert_exporter": "python",
   "pygments_lexer": "ipython3",
   "version": "3.6.0"
  }
 },
 "nbformat": 4,
 "nbformat_minor": 2
}
