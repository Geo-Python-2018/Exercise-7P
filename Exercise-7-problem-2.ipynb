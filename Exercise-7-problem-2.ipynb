{
 "cells": [
  {
   "cell_type": "markdown",
   "metadata": {
    "deletable": false,
    "editable": false,
    "nbgrader": {
     "checksum": "d5f892b471e6a97af78aebc625270ebe",
     "grade": false,
     "grade_id": "cell-a85f410ef0585bb8",
     "locked": true,
     "schema_version": 1,
     "solution": false
    }
   },
   "source": [
    "# Exercise 7: Plotting data in Python\n",
    "\n",
    "This week we'll put together our data analysis and plotting skills using Pandas and Matplotlib to visualize the temperature data we have been exploring for the course thus far.\n",
    "\n",
    "For each problem you need to modify the given notebook, and then upload your files to GitHub.\n",
    "The answers to the questions in this week's exercise should be given by modifying the document in places where asked.\n",
    "\n",
    "- **Exercise 7 is due by 16:00 on 28.10.**\n",
    "- Don't forget to check out [the hints for this week's exercise](https://geo-python.github.io/2018/lessons/L7/exercise-7.html) if you're having trouble.\n",
    "- Scores on this exercise are out of 20 points.\n",
    "\n"
   ]
  },
  {
   "cell_type": "markdown",
   "metadata": {},
   "source": [
    "## Problem 2 - Plotting temperatures (6 points)\n",
    "\n",
    "In this first problem we'll work with weather data, and create a scatter plot of the Celsius temperatures that you should read from a file.\n",
    "\n",
    "### Steps\n",
    "\n",
    "1: Load the Helsinki temperature data file produced above (`helsinki.csv`) into variable `data` using Pandas"
   ]
  },
  {
   "cell_type": "code",
   "execution_count": null,
   "metadata": {
    "collapsed": true,
    "deletable": false,
    "nbgrader": {
     "checksum": "151de7bc9173c1a268bd1a031699dab0",
     "grade": false,
     "grade_id": "read_data",
     "locked": false,
     "schema_version": 1,
     "solution": true
    }
   },
   "outputs": [],
   "source": [
    "# REPLACE THE ERROR BELOW WITH YOUR OWN CODE\n",
    "raise NotImplementedError()"
   ]
  },
  {
   "cell_type": "code",
   "execution_count": null,
   "metadata": {
    "collapsed": false,
    "deletable": false,
    "editable": false,
    "nbgrader": {
     "checksum": "33359061215c2e635699a01d12c1e1d0",
     "grade": true,
     "grade_id": "read_data_tests",
     "locked": true,
     "points": 1,
     "schema_version": 1,
     "solution": false
    }
   },
   "outputs": [],
   "source": [
    "# This test print should print first five rows\n",
    "print(data.head())\n"
   ]
  },
  {
   "cell_type": "markdown",
   "metadata": {
    "deletable": false,
    "editable": false,
    "nbgrader": {
     "checksum": "1f4edc838e104284731a2a0e576729ea",
     "grade": false,
     "grade_id": "cell-97cb58eda54e413d",
     "locked": true,
     "schema_version": 1,
     "solution": false
    }
   },
   "source": [
    "2: Create a variable **`selection`** in which you should store data covering all months between years 2010 to 2016. Take advantage of the information in `DATE_m` column.\n",
    "   - Hint: The first month should be January 2010 and the last month should be December 2016.\n",
    "   \n",
    "\n"
   ]
  },
  {
   "cell_type": "code",
   "execution_count": null,
   "metadata": {
    "collapsed": false,
    "deletable": false,
    "nbgrader": {
     "checksum": "5e13934af46fe982ecbd1e8210d769b7",
     "grade": false,
     "grade_id": "select_data",
     "locked": false,
     "schema_version": 1,
     "solution": true
    }
   },
   "outputs": [],
   "source": [
    "# REPLACE THE ERROR BELOW WITH YOUR OWN CODE\n",
    "raise NotImplementedError()"
   ]
  },
  {
   "cell_type": "code",
   "execution_count": null,
   "metadata": {
    "collapsed": false,
    "deletable": false,
    "editable": false,
    "nbgrader": {
     "checksum": "895b868f23f42132d168e095c17a6de3",
     "grade": true,
     "grade_id": "select_data_tests",
     "locked": true,
     "points": 2,
     "schema_version": 1,
     "solution": false
    }
   },
   "outputs": [],
   "source": [
    "# This test print should print first five rows\n",
    "print(selection.head())\n"
   ]
  },
  {
   "cell_type": "markdown",
   "metadata": {
    "deletable": false,
    "editable": false,
    "nbgrader": {
     "checksum": "429beda7c0e8e63fbfea20372a3340b6",
     "grade": false,
     "grade_id": "cell-322ca8ec0694eac9",
     "locked": true,
     "schema_version": 1,
     "solution": false
    }
   },
   "source": [
    "4: Make a line plot of temperatures in Celsius from the data covering years 2010-2016.\n",
    "\n",
    " - The line should be a dashed black line with circles for the data points\n",
    " - You should also include a title `\"Temperatures in Celsius: 2010-2016\"` \n",
    " - X-label should be `\"Time\"`\n",
    " - Y-label should be `\"Temperature (Celsius)\"`\n",
    " \n",
    "**Hint**: You can get the visualization visible in the notebook with *magic command*: `%matplotlib notebook` that you should insert before importing matplotlib library.  \n",
    "\n",
    "More guidance on this problem can be found in [the hints for this week's exercise](https://geo-python.github.io/2018/lessons/L7/exercise-7.html).\n",
    "\n",
    "The final output should look something like following:\n",
    "![](img/temp_line_plot.png)\n",
    "\n"
   ]
  },
  {
   "cell_type": "code",
   "execution_count": null,
   "metadata": {
    "collapsed": false,
    "deletable": false,
    "nbgrader": {
     "checksum": "a21f7ddd8af44b1bd4a499ce7a42dd5a",
     "grade": true,
     "grade_id": "cell-5a1c53b430f78381",
     "locked": false,
     "points": 2,
     "schema_version": 1,
     "solution": true
    }
   },
   "outputs": [],
   "source": [
    "# REPLACE THE ERROR BELOW WITH YOUR OWN CODE\n",
    "raise NotImplementedError()\n"
   ]
  },
  {
   "cell_type": "markdown",
   "metadata": {
    "deletable": false,
    "editable": false,
    "nbgrader": {
     "checksum": "3aa236e50f5cf627a7fd8e003e7c058b",
     "grade": false,
     "grade_id": "cell-b10b5ded5458b20c",
     "locked": true,
     "schema_version": 1,
     "solution": false
    }
   },
   "source": [
    "5: Save your figure as PNG file called `temp_line_plot.png` into disk.\n"
   ]
  },
  {
   "cell_type": "code",
   "execution_count": null,
   "metadata": {
    "collapsed": true,
    "deletable": false,
    "nbgrader": {
     "checksum": "2459ce1c5e087966c137cf31abc43cb7",
     "grade": true,
     "grade_id": "cell-2e28c448b5bc62c5",
     "locked": false,
     "points": 1,
     "schema_version": 1,
     "solution": true
    }
   },
   "outputs": [],
   "source": [
    "# REPLACE THE ERROR BELOW WITH YOUR OWN CODE\n",
    "raise NotImplementedError()"
   ]
  },
  {
   "cell_type": "markdown",
   "metadata": {
    "deletable": false,
    "editable": false,
    "nbgrader": {
     "checksum": "e3b8bf9d9ecd9cb4754f2924d366b616",
     "grade": false,
     "grade_id": "cell-d006f551c24788b6",
     "locked": true,
     "schema_version": 1,
     "solution": false
    }
   },
   "source": [
    "6: Upload your figure and the modified notebook into your personal GitHub repository.\n",
    "\n",
    "### Done!\n",
    "\n",
    "That's it, now you can move to problem 3. "
   ]
  }
 ],
 "metadata": {
  "kernelspec": {
   "display_name": "Python 3",
   "language": "python",
   "name": "python3"
  },
  "language_info": {
   "codemirror_mode": {
    "name": "ipython",
    "version": 3
   },
   "file_extension": ".py",
   "mimetype": "text/x-python",
   "name": "python",
   "nbconvert_exporter": "python",
   "pygments_lexer": "ipython3",
   "version": "3.6.0"
  }
 },
 "nbformat": 4,
 "nbformat_minor": 2
}
