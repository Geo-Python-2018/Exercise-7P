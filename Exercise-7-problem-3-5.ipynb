{
 "cells": [
  {
   "cell_type": "markdown",
   "metadata": {
    "deletable": false,
    "editable": false,
    "nbgrader": {
     "checksum": "d5f892b471e6a97af78aebc625270ebe",
     "grade": false,
     "grade_id": "cell-a85f410ef0585bb8",
     "locked": true,
     "schema_version": 1,
     "solution": false
    }
   },
   "source": [
    "# Exercise 7: Plotting data in Python\n",
    "\n",
    "This week we'll put together our data analysis and plotting skills using Pandas and Matplotlib to visualize the temperature data we have been exploring for the course thus far.\n",
    "\n",
    "For each problem you need to modify the given notebook, and then upload your files to GitHub.\n",
    "The answers to the questions in this week's exercise should be given by modifying the document in places where asked.\n",
    "\n",
    "- **Exercise 7 is due by 16:00 on 28.10.**\n",
    "- Don't forget to check out [the hints for this week's exercise](https://geo-python.github.io/2018/lessons/L7/exercise-7.html) if you're having trouble.\n",
    "- Scores on this exercise are out of 30 points.\n",
    "\n"
   ]
  },
  {
   "cell_type": "markdown",
   "metadata": {},
   "source": [
    "## Problem 3 - Seasonal temperature anomalies, visualized (7 points)\n",
    "\n",
    "![img/Seasonal_tempearatures.png](img/Seasonal_temperatures.png)<br/>\n",
    "*The goal for this problem is to make this plot.*\n",
    "\n",
    "For Problem 3, the goal is to recreate the plot above, a 4-panel plot showing seasonal temperature anomalies from 1953-2016.\n",
    "\n",
    "### Steps\n",
    "\n",
    "\n",
    "1: Read in the `helsinki.csv` data into Pandas similarly as in Problem 2. \n",
    "\n",
    "2: Create a variable `selection` and store the data into it covering months starting from January 1953 and up to the end of the year 2016 (last month should be December 2016). "
   ]
  },
  {
   "cell_type": "code",
   "execution_count": null,
   "metadata": {
    "collapsed": false,
    "deletable": false,
    "nbgrader": {
     "checksum": "151de7bc9173c1a268bd1a031699dab0",
     "grade": false,
     "grade_id": "read_data",
     "locked": false,
     "schema_version": 1,
     "solution": true
    }
   },
   "outputs": [],
   "source": [
    "# REPLACE THE ERROR BELOW WITH YOUR OWN CODE\n",
    "raise NotImplementedError()"
   ]
  },
  {
   "cell_type": "code",
   "execution_count": null,
   "metadata": {
    "collapsed": false,
    "deletable": false,
    "editable": false,
    "nbgrader": {
     "checksum": "d0957488122031a8a13f5d7133f62f9c",
     "grade": true,
     "grade_id": "read_data_tests",
     "locked": true,
     "points": 1,
     "schema_version": 1,
     "solution": false
    }
   },
   "outputs": [],
   "source": [
    "# These test prints should print first five rows\n",
    "print(data.head())\n",
    "print(selection.head())\n"
   ]
  },
  {
   "cell_type": "markdown",
   "metadata": {
    "deletable": false,
    "editable": false,
    "nbgrader": {
     "checksum": "316a16b9436f9b43a965fc2ed2a96ec7",
     "grade": false,
     "grade_id": "cell-0804481faa5e0152",
     "locked": true,
     "schema_version": 1,
     "solution": false
    }
   },
   "source": [
    "2: Create four variables (`winter`, `spring`, `summer`, and `fall`) and store rows from the `selection` DataFrame into those variables that meet following criteria: \n",
    "\n",
    "  - **`winter`** DataFrame should cover months from December to February\n",
    "  - **`spring`** DataFrame should cover months from March to May\n",
    "  - **`summer`** DataFrame should cover months from June to August\n",
    "  - **`fall`** DataFrame should cover months from September to November\n",
    "\n",
    "Hint: Take advantage of the information stored in column **`Month`** in the `selection` DataFrame.\n",
    "  \n",
    "**Important**: Use lower case naming for the variables. "
   ]
  },
  {
   "cell_type": "code",
   "execution_count": null,
   "metadata": {
    "collapsed": false,
    "deletable": false,
    "nbgrader": {
     "checksum": "dc8d74ec3b60dd126904d6b52179c367",
     "grade": false,
     "grade_id": "cell-e2e8473b39492cf7",
     "locked": false,
     "schema_version": 1,
     "solution": true
    }
   },
   "outputs": [],
   "source": [
    "# REPLACE THE ERROR BELOW WITH YOUR OWN CODE\n",
    "raise NotImplementedError()"
   ]
  },
  {
   "cell_type": "code",
   "execution_count": null,
   "metadata": {
    "collapsed": false,
    "deletable": false,
    "editable": false,
    "nbgrader": {
     "checksum": "134d249daae3d6206d323fb719b0b996",
     "grade": true,
     "grade_id": "cell-55cd3fe7bd20cd0e",
     "locked": true,
     "points": 1,
     "schema_version": 1,
     "solution": false
    }
   },
   "outputs": [],
   "source": [
    "# These test prints should print first 3 rows of each DataFrame\n",
    "print(winter.head(3))\n",
    "print(spring.head(3))\n",
    "print(summer.head(3))\n",
    "print(fall.head(3))\n"
   ]
  },
  {
   "cell_type": "markdown",
   "metadata": {},
   "source": [
    "Next we want to aggregate the temperature anomalies (in column `Diff`) into yearly averages. Hence, for each season in each year you should have a single mean value. \n",
    "\n",
    "**3:** Create four emplty DataFrames (called `winter_agg`, `spring_agg`, `summer_agg` and `fall_agg`) that should in the end contain the yearly mean temperatures of the `Diff` temperatures (*temperature anomalies*) from different seasons. Hence, you should group the values from the DataFrames made in the last step 2 (separately for each season) and calculate the annual mean of each season based on `Diff` -column that you store into the new DataFrames `winter_agg`, `spring_agg`, `summer_agg` and `fall_agg`. **Note:** In this step it is okay (and expected) that you create four different loops when iterating over the groups of different seasons.\n",
    "\n",
    "  - Each DataFrame should have columns `year` and `mean_anomaly`.\n",
    "\n",
    "\n",
    "Hint: This follows closely the idea in Exercise-6 and Lesson-6 where the values were grouped and aggregated into hourly or daily mean values. Hence, you might want to first parse the year information from the `DATE_m` column. \n",
    "\n",
    "Help: Check out [the hints for this week's exercise](https://geo-python.github.io/2018/lessons/L7/exercise-7.html) if you're having trouble."
   ]
  },
  {
   "cell_type": "code",
   "execution_count": null,
   "metadata": {
    "collapsed": false,
    "deletable": false,
    "nbgrader": {
     "checksum": "626ab5be8dcdb52d428f63beab141b8d",
     "grade": false,
     "grade_id": "aggregate",
     "locked": false,
     "schema_version": 1,
     "solution": true
    }
   },
   "outputs": [],
   "source": [
    "# REPLACE THE ERROR BELOW WITH YOUR OWN CODE\n",
    "raise NotImplementedError()"
   ]
  },
  {
   "cell_type": "code",
   "execution_count": null,
   "metadata": {
    "collapsed": false,
    "deletable": false,
    "editable": false,
    "nbgrader": {
     "checksum": "2a3f08a03ad5541d84d32e193dff99c8",
     "grade": true,
     "grade_id": "aggregate_tests",
     "locked": true,
     "points": 2,
     "schema_version": 1,
     "solution": false
    }
   },
   "outputs": [],
   "source": [
    "# These test prints should print data from first 5 years of each DataFrame\n",
    "print(winter_agg.head())\n",
    "print(spring_agg.head())\n",
    "print(summer_agg.head())\n",
    "print(fall_agg.head())\n",
    "\n"
   ]
  },
  {
   "cell_type": "markdown",
   "metadata": {},
   "source": [
    "4: Create a figure with 4 subplots in the arrangement shown above, labeling axes as needed, with gridlines on, and with a line legend for each panel.\n",
    "\n",
    " - You can find tips about these different plot features in the [Matplotlib documentation](https://matplotlib.org/contents.html) and [the hints for this week's exercise](https://geo-python.github.io/2018/lessons/L7/exercise-7.html).\n",
    "\n",
    "\n"
   ]
  },
  {
   "cell_type": "code",
   "execution_count": null,
   "metadata": {
    "collapsed": false,
    "deletable": false,
    "nbgrader": {
     "checksum": "74393ff55276dbf0b547cba57de8b252",
     "grade": true,
     "grade_id": "plot_seasons",
     "locked": false,
     "points": 2,
     "schema_version": 1,
     "solution": true
    }
   },
   "outputs": [],
   "source": [
    "# REPLACE THE ERROR BELOW WITH YOUR OWN CODE\n",
    "raise NotImplementedError()"
   ]
  },
  {
   "cell_type": "markdown",
   "metadata": {
    "deletable": false,
    "editable": false,
    "nbgrader": {
     "checksum": "a45255d76bd932807b7221ef74192d6e",
     "grade": false,
     "grade_id": "cell-a05e23003b70706f",
     "locked": true,
     "schema_version": 1,
     "solution": false
    }
   },
   "source": [
    "5: Save your plot as PNG file into disk with filename `seasonal_temperatures.png` "
   ]
  },
  {
   "cell_type": "code",
   "execution_count": null,
   "metadata": {
    "collapsed": true,
    "deletable": false,
    "nbgrader": {
     "checksum": "8ff628f7f61fc2f818024cd40586d119",
     "grade": true,
     "grade_id": "save_file",
     "locked": false,
     "points": 1,
     "schema_version": 1,
     "solution": true
    }
   },
   "outputs": [],
   "source": [
    "# REPLACE THE ERROR BELOW WITH YOUR OWN CODE\n",
    "raise NotImplementedError()"
   ]
  },
  {
   "cell_type": "markdown",
   "metadata": {
    "deletable": false,
    "editable": false,
    "nbgrader": {
     "checksum": "db05cbc93c45ebf4cf9ba7be4b28afc9",
     "grade": false,
     "grade_id": "cell-225361dde8e24eca",
     "locked": true,
     "schema_version": 1,
     "solution": false
    }
   },
   "source": [
    "6: Upload the figure and the notebook into your personal GitHub repository.\n",
    "\n",
    "### Done!\n",
    "\n",
    "That's it! Now you can continue into problem 4 (below)."
   ]
  },
  {
   "cell_type": "markdown",
   "metadata": {},
   "source": [
    "# Problem 4 - Bar-plot for seasonal temperature anomalies (6 points)\n",
    "\n",
    "In this problem the aim is to create a single plot where the temperature anomalies for different seasons of the year 2012 are visualized with barplot. The result figure should look something like following where temperatures above 0 degrees are plotted with red color, and the temperatures below or equal to zero degree are plotted with blue color:\n",
    "\n",
    "![seasonal anomalies](img/seasonal_anomalies.png)\n",
    "\n",
    "## Steps\n",
    "\n",
    "**1:** Create variables `wi`, `sp`, `su`, and `fa` that corresponds to different seasons (namely winter, spring, summer and fall). You should store for each of these variables the **mean anomaly temperature** for each season of the year **2012**. \n",
    "\n",
    "**Hint:** You can get those values from `mean_anomaly` column from the DataFrames created at the end of Problem 3 (i.e. winter_agg, spring_agg, etc.)."
   ]
  },
  {
   "cell_type": "code",
   "execution_count": null,
   "metadata": {
    "collapsed": true,
    "deletable": false,
    "nbgrader": {
     "checksum": "ba7a5913c37da6ef3863c79ccdc05f97",
     "grade": false,
     "grade_id": "cell-c29c2dac72d0cbe7",
     "locked": false,
     "schema_version": 1,
     "solution": true
    }
   },
   "outputs": [],
   "source": [
    "# REPLACE THE ERROR BELOW WITH YOUR OWN CODE\n",
    "raise NotImplementedError()"
   ]
  },
  {
   "cell_type": "code",
   "execution_count": null,
   "metadata": {
    "collapsed": true,
    "deletable": false,
    "editable": false,
    "nbgrader": {
     "checksum": "ca17102c8074dea3a2dac7ad87c1e218",
     "grade": true,
     "grade_id": "cell-2ab917c9cdbbfd63",
     "locked": true,
     "points": 1,
     "schema_version": 1,
     "solution": false
    }
   },
   "outputs": [],
   "source": []
  },
  {
   "cell_type": "markdown",
   "metadata": {
    "deletable": false,
    "editable": false,
    "nbgrader": {
     "checksum": "9d3c8f5acf5024a4414cec53f3361208",
     "grade": false,
     "grade_id": "cell-37b90bfe6cb4fe92",
     "locked": true,
     "schema_version": 1,
     "solution": false
    }
   },
   "source": [
    "**2:** Create a list called `seasons` with four values: `wi`, `sp`, `su` and `fa`. "
   ]
  },
  {
   "cell_type": "code",
   "execution_count": null,
   "metadata": {
    "collapsed": true,
    "deletable": false,
    "nbgrader": {
     "checksum": "644dde6c1fc533ca9d753a5af9e90136",
     "grade": false,
     "grade_id": "seasons_list",
     "locked": false,
     "schema_version": 1,
     "solution": true
    }
   },
   "outputs": [],
   "source": [
    "# REPLACE THE ERROR BELOW WITH YOUR OWN CODE\n",
    "raise NotImplementedError()"
   ]
  },
  {
   "cell_type": "code",
   "execution_count": null,
   "metadata": {
    "collapsed": false,
    "deletable": false,
    "editable": false,
    "nbgrader": {
     "checksum": "9eda04474e71e2466a07abbd742896ef",
     "grade": true,
     "grade_id": "seasons_list_test",
     "locked": true,
     "points": 0.5,
     "schema_version": 1,
     "solution": false
    }
   },
   "outputs": [],
   "source": [
    "# This test print should print four values from the list\n",
    "print(seasons)\n"
   ]
  },
  {
   "cell_type": "markdown",
   "metadata": {
    "deletable": false,
    "editable": false,
    "nbgrader": {
     "checksum": "360abdc59087ba3a47cd14a4bd5f2159",
     "grade": false,
     "grade_id": "cell-2878a64c05887534",
     "locked": true,
     "schema_version": 1,
     "solution": false
    }
   },
   "source": [
    "**3:** Visualize the anomalies:\n",
    "\n",
    "   - Initialize the **figure** and **ax** with Matplotlib's `plt.subplots()` -function. You do not need pass any parameters (**[see hints](https://geo-python.github.io/2018/lessons/L7/exercise-7.html)**).\n",
    "   - Use **`enumerate()`** -function (**[see hints](https://geo-python.github.io/2018/lessons/L7/exercise-7.html)**) to (for) loop over the values in **seasons** list. When looping, you should store the list value into a variable called **`season`**. By using `enumerate()` -function you will, in addition to the list value, also get the index. \n",
    "   - **Inside the loop**: \n",
    "      \n",
    "       - Create a variable called `color`, and assign value **`\"red\"`** if the value in `season` is **higher than 0**, and **`\"blue\"`** in all other cases. \n",
    "       - Visualize the data with bar plot by using the Matplotlib's `bar()` -function. The **x** -parameter should be the **index** of the `seasons` list (the one you are iterating over), and the **y** -parameter should be the temperature value from **`season`** -variable, and the parameter **`width`** should be **`1.0`**.\n",
    "       - Specify the value limits for y-axis: lower boundary should be **-6** and the higher boundary should be **6**. You should use the `set_ylim()` -function to do this (see lesson materials). \n",
    "       - Remove the x-axis ticks from the plot with command (you can just copy-paste this): `ax.set_xticks([], [])`\n",
    "       - Give intuitive annotations for each bar: use `text()` -function to add following texts to specified positions:\n",
    "          \n",
    "          - Winter: at position `x=0` and `y=5.5` add text **`Wi`**\n",
    "          - Spring: at position `x=1` and `y=5.5` add text **`Sp`**\n",
    "          - Summer: at position `x=2` and `y=5.5` add text **`Su`**\n",
    "          - Fall: at position `x=3` and `y=5.5` add text **`Fa`**\n",
    "          \n",
    "   \n",
    "  - **After the loop**: \n",
    "       \n",
    "       - Add title **`Seasonal weather anomalies in Helsinki`** to the plot. You can use parameter `fontsize=16` to adjust the fontsize to be the same as in example figure. \n",
    "       - Add xlabel **`2012`** to the plot. You can use parameter `fontsize=16` to adjust the fontsize to be the same as in example figure. \n",
    "       - Add ylabel **`Difference from long-term\\naverage temperature (Celsius)`** to the plot. You can use parameter `fontsize=14` to adjust the fontsize to be the same as in example figure. \n",
    "       \n",
    "       - Save the figure into disk with name `seasonal_anomalies_in_2012.png`\n",
    "  \n",
    "     \n",
    "       "
   ]
  },
  {
   "cell_type": "code",
   "execution_count": null,
   "metadata": {
    "collapsed": false,
    "deletable": false,
    "nbgrader": {
     "checksum": "dd19636d96ef9aa1ee87aeb9361a04a2",
     "grade": true,
     "grade_id": "anomaly_bar_plot",
     "locked": false,
     "points": 4.5,
     "schema_version": 1,
     "solution": true
    }
   },
   "outputs": [],
   "source": [
    "# REPLACE THE ERROR BELOW WITH YOUR OWN CODE\n",
    "raise NotImplementedError()"
   ]
  },
  {
   "cell_type": "markdown",
   "metadata": {},
   "source": [
    "4: Upload the figure and the notebook into your personal GitHub repository.\n",
    "\n",
    "### Done!\n",
    "\n",
    "That's it! Now you can continue into problem 5 (below)."
   ]
  },
  {
   "cell_type": "markdown",
   "metadata": {
    "deletable": false,
    "editable": false,
    "nbgrader": {
     "checksum": "3b514c23d3945ed59eff40e78056e04c",
     "grade": false,
     "grade_id": "cell-9f29d11ba5df8c3d",
     "locked": true,
     "schema_version": 1,
     "solution": false
    }
   },
   "source": [
    "## Problem 5 - Seasonal temperature anomalies, animated (5 points)\n",
    "\n",
    "![temp_anomaly_animation.gif](img/temp_anomaly_animation.gif)<br/>\n",
    "*The goal for this problem is to make this kind of animation.*\n",
    "\n",
    "**In Problem 5**, the goal is to recreate **64 individual bar plots** that can be animated like the animation above that shows the variation in seasonal temperature anomalies\n",
    "from 1953-2016.\n",
    "\n",
    "**The solution from Problem 4 gives a good starting for this problem**, as now we are producing many similar plots and automating the generation of those visualizations by looping over different years. The instructions repeats quite many of the steps from Problem 4, but **they include changes as well**. \n",
    "\n",
    "## Steps\n",
    "\n",
    "Before starting, you might want to copy and paste your solution from Problem 4 into the cell below and start modifying that code.\n",
    "\n",
    " - Create variables `start_year` that should have the first year in the data (1953) and `stop_year` that should have the year when the loop is stopped (2017). \n",
    " - Create a for loop using the `range()` function where you should iterate over the range of years specified in `start_year` and `stop_year`. When creating the loop assign the value of the iteration into a variable called **`year`**. \n",
    " - **Inside the loop**:\n",
    "     \n",
    "     - Following the example from Problem 4, create variables `wi`, `sp`, `su`, and `fa` that corresponds to different seasons (namely winter, spring, summer and fall). You should store for each of these variables the **mean anomaly temperature** for each season of the **`year`** that you are looping over. \n",
    "     - Create a list called `seasons` with four values: `wi`, `sp`, `su` and `fa`. \n",
    "     \n",
    "     - Initialize the **figure** and **ax** with Matplotlib's `plt.subplots()` -function. You do not need pass any parameters (**[see hints](https://geo-python.github.io/2018/lessons/L7/exercise-7.html)**).\n",
    "   - Use **`enumerate()`** -function (**[see hints](https://geo-python.github.io/2018/lessons/L7/exercise-7.html)**) to (for) loop over the values in **seasons** list. When looping, you should store the list value into a variable called **`season`**. By using `enumerate()` -function you will, in addition to the list value, also get the index. \n",
    "   \n",
    "   - **Inside another (nested) loop**: \n",
    "      \n",
    "       - Create a variable called `color`, and assign values according following criterias (**this is optional**, you can continue with the same colors and criteria as specified in Problem 4, i.e. blue-red):\n",
    "           - if `season` value is **higher than 3** the color should get hex-color `'#b2182b'` ([what is hex color?](https://en.wikipedia.org/wiki/Web_colors#Hex_triplet))\n",
    "           - if `season` value is **higher than 2 and below or equal to 3** the color should get hex-color `'#ef8a62'`\n",
    "           - if `season` value is **higher or equal to 0 and below or equal to 2** the color should get hex-color `'#fddbc7'`\n",
    "           - if `season` value is **lower or equal to -3 ** the color should get hex-color `'#fddbc7'`\n",
    "           - if `season` value is **lower or equal to -2 and higher than -3** the color should get hex-color `'#67a9cf'`\n",
    "           - if `season` value is **lower than 0 and higher than -2** the color should get hex-color `'#d1e5f0'`\n",
    "           \n",
    "       - Visualize the data with bar plot by using the Matplotlib's `bar()` -function. The **x** -parameter should be the **index** of the `seasons` list (the one you are iterating over), and the **y** -parameter should be the temperature value from **`season`** -variable, and the parameter **`width`** should be **`1.0`**.\n",
    "       - Specify the value limits for y-axis: lower boundary should be **-6** and the higher boundary should be **6**. You should use the `set_ylim()` -function to do this (see lesson materials). \n",
    "       - Remove the x-axis ticks from the plot with command (you can just copy-paste this): `ax.set_xticks([], [])`\n",
    "       - Give intuitive annotations for each bar: use `text()` -function to add following texts to specified positions:\n",
    "          \n",
    "          - Winter: at position `x=0` and `y=5.5` add text **`Wi`**\n",
    "          - Spring: at position `x=1` and `y=5.5` add text **`Sp`**\n",
    "          - Summer: at position `x=2` and `y=5.5` add text **`Su`**\n",
    "          - Fall: at position `x=3` and `y=5.5` add text **`Fa`**\n",
    "          \n",
    "  - **After the nested loop (i.e. back to first-level loop)**: \n",
    "       \n",
    "       - Add title **`Seasonal weather anomalies in Helsinki`** to the plot. You can use parameter `fontsize=16` to adjust the fontsize to be the same as in example figure. \n",
    "       - Add xlabel according to the **`year`** you are plotting. You can use parameter `fontsize=16` to adjust the fontsize to be the same as in example figure. \n",
    "       - Add ylabel **`Difference from long-term\\naverage temperature (Celsius)`** to the plot. You can use parameter `fontsize=14` to adjust the fontsize to be the same as in example figure. \n",
    "       - Create a variable called **`outfp`** and store the name of output file into it following formula `seasonal_anomalies_in_YEARX.png` where the YEARX should be replaced with the year you are iterating over.\n",
    "       - Save the figure into disk with output filename from `outfp`.\n",
    "    \n",
    "- Upload your figures and notebook to your own personal GitHub repository. "
   ]
  },
  {
   "cell_type": "code",
   "execution_count": null,
   "metadata": {
    "collapsed": false,
    "deletable": false,
    "nbgrader": {
     "checksum": "b33023f0d919b1abf34dfc80721b9a49",
     "grade": true,
     "grade_id": "animation_bar_plots",
     "locked": false,
     "points": 4,
     "schema_version": 1,
     "solution": true
    }
   },
   "outputs": [],
   "source": [
    "# REPLACE THE ERROR BELOW WITH YOUR OWN CODE\n",
    "raise NotImplementedError()"
   ]
  },
  {
   "cell_type": "markdown",
   "metadata": {},
   "source": [
    "## Done!\n",
    "\n",
    "That's it now you have successfully programmed a process where you visualize data automatically for many years! Pretty cool isn't it! \n",
    "\n",
    "As a final (optional) step, you can continue to Problem 6. "
   ]
  }
 ],
 "metadata": {
  "kernelspec": {
   "display_name": "Python 3",
   "language": "python",
   "name": "python3"
  },
  "language_info": {
   "codemirror_mode": {
    "name": "ipython",
    "version": 3
   },
   "file_extension": ".py",
   "mimetype": "text/x-python",
   "name": "python",
   "nbconvert_exporter": "python",
   "pygments_lexer": "ipython3",
   "version": "3.6.0"
  }
 },
 "nbformat": 4,
 "nbformat_minor": 2
}
